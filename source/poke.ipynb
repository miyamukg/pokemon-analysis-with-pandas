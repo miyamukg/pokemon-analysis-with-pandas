{
 "cells": [
  {
   "cell_type": "code",
   "execution_count": 1,
   "metadata": {
    "scrolled": true
   },
   "outputs": [
    {
     "name": "stdout",
     "output_type": "stream",
     "text": [
      "aa\n"
     ]
    }
   ],
   "source": [
    "print(\"aa\")"
   ]
  },
  {
   "cell_type": "code",
   "execution_count": 21,
   "metadata": {
    "scrolled": true
   },
   "outputs": [
    {
     "name": "stdout",
     "output_type": "stream",
     "text": [
      "\n",
      "★欠損値の数を列ごとに表示\n",
      "図鑑番号       0\n",
      "ポケモン名      0\n",
      "タイプ１       0\n",
      "タイプ２     422\n",
      "通常特性１      0\n",
      "通常特性２    451\n",
      "夢特性      180\n",
      "HP         0\n",
      "こうげき       0\n",
      "ぼうぎょ       0\n",
      "とくこう       0\n",
      "とくぼう       0\n",
      "すばやさ       0\n",
      "合計         2\n",
      "dtype: int64\n",
      "\n",
      "★要約統計量を表示\n",
      "               HP        こうげき        ぼうぎょ        とくこう        とくぼう        すばやさ  \\\n",
      "count  909.000000  909.000000  909.000000  909.000000  909.000000  909.000000   \n",
      "mean    69.500550   79.588559   74.239824   72.844884   72.229923   69.191419   \n",
      "std     26.129406   32.307139   30.922023   32.804674   27.944386   36.750509   \n",
      "min      1.000000    5.000000    5.000000   10.000000   20.000000    5.000000   \n",
      "25%     50.000000   55.000000   50.000000   50.000000   50.000000   45.000000   \n",
      "50%     66.000000   75.000000   70.000000   65.000000   70.000000   65.000000   \n",
      "75%     80.000000  100.000000   90.000000   95.000000   90.000000   90.000000   \n",
      "max    255.000000  190.000000  230.000000  194.000000  230.000000  600.000000   \n",
      "\n",
      "               合計  \n",
      "count  907.000000  \n",
      "mean   436.343991  \n",
      "std    119.406787  \n",
      "min    175.000000  \n",
      "25%    330.000000  \n",
      "50%    455.000000  \n",
      "75%    515.000000  \n",
      "max    780.000000  \n"
     ]
    }
   ],
   "source": [
    "import pandas as pd\n",
    "csv_data = pd.read_csv(\"../dataset/pokemon_status.csv\", encoding=\"shift-jis\")\n",
    "\n",
    "print(\"★CSVの先頭5行表示\")\n",
    "print(csv_data.head())\n",
    "\n",
    "print(\"\\n★合計値が高い順5行表示\")\n",
    "print(csv_data.sort_values(\"合計\", ascending=False).head())\n",
    "\n",
    "print(\"\\n★合計値が低い順5行表示\")\n",
    "print(csv_data.sort_values(\"合計\").head())\n",
    "\n",
    "print(\"\\n★欠損値の数を列ごとに表示\")\n",
    "print(csv_data.isnull().sum())\n",
    "\n",
    "print(\"\\n★要約統計量を表示\")\n",
    "print(csv_data.describe())"
   ]
  },
  {
   "cell_type": "code",
   "execution_count": null,
   "metadata": {},
   "outputs": [],
   "source": []
  }
 ],
 "metadata": {
  "kernelspec": {
   "display_name": "Python 3",
   "language": "python",
   "name": "python3"
  },
  "language_info": {
   "codemirror_mode": {
    "name": "ipython",
    "version": 3
   },
   "file_extension": ".py",
   "mimetype": "text/x-python",
   "name": "python",
   "nbconvert_exporter": "python",
   "pygments_lexer": "ipython3",
   "version": "3.7.6"
  }
 },
 "nbformat": 4,
 "nbformat_minor": 4
}
